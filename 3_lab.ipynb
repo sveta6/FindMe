{
  "nbformat": 4,
  "nbformat_minor": 0,
  "metadata": {
    "colab": {
      "provenance": [],
      "include_colab_link": true
    },
    "kernelspec": {
      "name": "python3",
      "display_name": "Python 3"
    },
    "language_info": {
      "name": "python"
    }
  },
  "cells": [
    {
      "cell_type": "markdown",
      "metadata": {
        "id": "view-in-github",
        "colab_type": "text"
      },
      "source": [
        "<a href=\"https://colab.research.google.com/github/sveta6/FindMe/blob/main/3_lab.ipynb\" target=\"_parent\"><img src=\"https://colab.research.google.com/assets/colab-badge.svg\" alt=\"Open In Colab\"/></a>"
      ]
    },
    {
      "cell_type": "code",
      "execution_count": null,
      "metadata": {
        "id": "JfCqr1hjEk3p"
      },
      "outputs": [],
      "source": [
        "import pandas as pd\n",
        "from sklearn.model_selection import train_test_split\n",
        "from sklearn.feature_extraction.text import CountVectorizer"
      ]
    },
    {
      "cell_type": "markdown",
      "source": [
        "предобработка данных"
      ],
      "metadata": {
        "id": "_V-25uS436Fu"
      }
    },
    {
      "cell_type": "code",
      "source": [
        "data = pd.read_csv(\"/content/spam.csv\", encoding = 'latin-1')\n",
        "data.drop(data.iloc[:, 2:5], inplace = True, axis = 1)\n",
        "data.rename(columns={'v1': 'class', 'v2': 'text'}, inplace=True)\n",
        "data"
      ],
      "metadata": {
        "colab": {
          "base_uri": "https://localhost:8080/",
          "height": 424
        },
        "id": "1aHCcu5YGpvA",
        "outputId": "89415b49-2146-4d4f-9efb-7a634b8721dc"
      },
      "execution_count": null,
      "outputs": [
        {
          "output_type": "execute_result",
          "data": {
            "text/plain": [
              "     class                                               text\n",
              "0      ham  Go until jurong point, crazy.. Available only ...\n",
              "1      ham                      Ok lar... Joking wif u oni...\n",
              "2     spam  Free entry in 2 a wkly comp to win FA Cup fina...\n",
              "3      ham  U dun say so early hor... U c already then say...\n",
              "4      ham  Nah I don't think he goes to usf, he lives aro...\n",
              "...    ...                                                ...\n",
              "5567  spam  This is the 2nd time we have tried 2 contact u...\n",
              "5568   ham              Will Ì_ b going to esplanade fr home?\n",
              "5569   ham  Pity, * was in mood for that. So...any other s...\n",
              "5570   ham  The guy did some bitching but I acted like i'd...\n",
              "5571   ham                         Rofl. Its true to its name\n",
              "\n",
              "[5572 rows x 2 columns]"
            ],
            "text/html": [
              "\n",
              "  <div id=\"df-68b4b9da-d305-4ca2-abd9-9a6ec2af37b6\">\n",
              "    <div class=\"colab-df-container\">\n",
              "      <div>\n",
              "<style scoped>\n",
              "    .dataframe tbody tr th:only-of-type {\n",
              "        vertical-align: middle;\n",
              "    }\n",
              "\n",
              "    .dataframe tbody tr th {\n",
              "        vertical-align: top;\n",
              "    }\n",
              "\n",
              "    .dataframe thead th {\n",
              "        text-align: right;\n",
              "    }\n",
              "</style>\n",
              "<table border=\"1\" class=\"dataframe\">\n",
              "  <thead>\n",
              "    <tr style=\"text-align: right;\">\n",
              "      <th></th>\n",
              "      <th>class</th>\n",
              "      <th>text</th>\n",
              "    </tr>\n",
              "  </thead>\n",
              "  <tbody>\n",
              "    <tr>\n",
              "      <th>0</th>\n",
              "      <td>ham</td>\n",
              "      <td>Go until jurong point, crazy.. Available only ...</td>\n",
              "    </tr>\n",
              "    <tr>\n",
              "      <th>1</th>\n",
              "      <td>ham</td>\n",
              "      <td>Ok lar... Joking wif u oni...</td>\n",
              "    </tr>\n",
              "    <tr>\n",
              "      <th>2</th>\n",
              "      <td>spam</td>\n",
              "      <td>Free entry in 2 a wkly comp to win FA Cup fina...</td>\n",
              "    </tr>\n",
              "    <tr>\n",
              "      <th>3</th>\n",
              "      <td>ham</td>\n",
              "      <td>U dun say so early hor... U c already then say...</td>\n",
              "    </tr>\n",
              "    <tr>\n",
              "      <th>4</th>\n",
              "      <td>ham</td>\n",
              "      <td>Nah I don't think he goes to usf, he lives aro...</td>\n",
              "    </tr>\n",
              "    <tr>\n",
              "      <th>...</th>\n",
              "      <td>...</td>\n",
              "      <td>...</td>\n",
              "    </tr>\n",
              "    <tr>\n",
              "      <th>5567</th>\n",
              "      <td>spam</td>\n",
              "      <td>This is the 2nd time we have tried 2 contact u...</td>\n",
              "    </tr>\n",
              "    <tr>\n",
              "      <th>5568</th>\n",
              "      <td>ham</td>\n",
              "      <td>Will Ì_ b going to esplanade fr home?</td>\n",
              "    </tr>\n",
              "    <tr>\n",
              "      <th>5569</th>\n",
              "      <td>ham</td>\n",
              "      <td>Pity, * was in mood for that. So...any other s...</td>\n",
              "    </tr>\n",
              "    <tr>\n",
              "      <th>5570</th>\n",
              "      <td>ham</td>\n",
              "      <td>The guy did some bitching but I acted like i'd...</td>\n",
              "    </tr>\n",
              "    <tr>\n",
              "      <th>5571</th>\n",
              "      <td>ham</td>\n",
              "      <td>Rofl. Its true to its name</td>\n",
              "    </tr>\n",
              "  </tbody>\n",
              "</table>\n",
              "<p>5572 rows × 2 columns</p>\n",
              "</div>\n",
              "      <button class=\"colab-df-convert\" onclick=\"convertToInteractive('df-68b4b9da-d305-4ca2-abd9-9a6ec2af37b6')\"\n",
              "              title=\"Convert this dataframe to an interactive table.\"\n",
              "              style=\"display:none;\">\n",
              "        \n",
              "  <svg xmlns=\"http://www.w3.org/2000/svg\" height=\"24px\"viewBox=\"0 0 24 24\"\n",
              "       width=\"24px\">\n",
              "    <path d=\"M0 0h24v24H0V0z\" fill=\"none\"/>\n",
              "    <path d=\"M18.56 5.44l.94 2.06.94-2.06 2.06-.94-2.06-.94-.94-2.06-.94 2.06-2.06.94zm-11 1L8.5 8.5l.94-2.06 2.06-.94-2.06-.94L8.5 2.5l-.94 2.06-2.06.94zm10 10l.94 2.06.94-2.06 2.06-.94-2.06-.94-.94-2.06-.94 2.06-2.06.94z\"/><path d=\"M17.41 7.96l-1.37-1.37c-.4-.4-.92-.59-1.43-.59-.52 0-1.04.2-1.43.59L10.3 9.45l-7.72 7.72c-.78.78-.78 2.05 0 2.83L4 21.41c.39.39.9.59 1.41.59.51 0 1.02-.2 1.41-.59l7.78-7.78 2.81-2.81c.8-.78.8-2.07 0-2.86zM5.41 20L4 18.59l7.72-7.72 1.47 1.35L5.41 20z\"/>\n",
              "  </svg>\n",
              "      </button>\n",
              "      \n",
              "  <style>\n",
              "    .colab-df-container {\n",
              "      display:flex;\n",
              "      flex-wrap:wrap;\n",
              "      gap: 12px;\n",
              "    }\n",
              "\n",
              "    .colab-df-convert {\n",
              "      background-color: #E8F0FE;\n",
              "      border: none;\n",
              "      border-radius: 50%;\n",
              "      cursor: pointer;\n",
              "      display: none;\n",
              "      fill: #1967D2;\n",
              "      height: 32px;\n",
              "      padding: 0 0 0 0;\n",
              "      width: 32px;\n",
              "    }\n",
              "\n",
              "    .colab-df-convert:hover {\n",
              "      background-color: #E2EBFA;\n",
              "      box-shadow: 0px 1px 2px rgba(60, 64, 67, 0.3), 0px 1px 3px 1px rgba(60, 64, 67, 0.15);\n",
              "      fill: #174EA6;\n",
              "    }\n",
              "\n",
              "    [theme=dark] .colab-df-convert {\n",
              "      background-color: #3B4455;\n",
              "      fill: #D2E3FC;\n",
              "    }\n",
              "\n",
              "    [theme=dark] .colab-df-convert:hover {\n",
              "      background-color: #434B5C;\n",
              "      box-shadow: 0px 1px 3px 1px rgba(0, 0, 0, 0.15);\n",
              "      filter: drop-shadow(0px 1px 2px rgba(0, 0, 0, 0.3));\n",
              "      fill: #FFFFFF;\n",
              "    }\n",
              "  </style>\n",
              "\n",
              "      <script>\n",
              "        const buttonEl =\n",
              "          document.querySelector('#df-68b4b9da-d305-4ca2-abd9-9a6ec2af37b6 button.colab-df-convert');\n",
              "        buttonEl.style.display =\n",
              "          google.colab.kernel.accessAllowed ? 'block' : 'none';\n",
              "\n",
              "        async function convertToInteractive(key) {\n",
              "          const element = document.querySelector('#df-68b4b9da-d305-4ca2-abd9-9a6ec2af37b6');\n",
              "          const dataTable =\n",
              "            await google.colab.kernel.invokeFunction('convertToInteractive',\n",
              "                                                     [key], {});\n",
              "          if (!dataTable) return;\n",
              "\n",
              "          const docLinkHtml = 'Like what you see? Visit the ' +\n",
              "            '<a target=\"_blank\" href=https://colab.research.google.com/notebooks/data_table.ipynb>data table notebook</a>'\n",
              "            + ' to learn more about interactive tables.';\n",
              "          element.innerHTML = '';\n",
              "          dataTable['output_type'] = 'display_data';\n",
              "          await google.colab.output.renderOutput(dataTable, element);\n",
              "          const docLink = document.createElement('div');\n",
              "          docLink.innerHTML = docLinkHtml;\n",
              "          element.appendChild(docLink);\n",
              "        }\n",
              "      </script>\n",
              "    </div>\n",
              "  </div>\n",
              "  "
            ]
          },
          "metadata": {},
          "execution_count": 4
        }
      ]
    },
    {
      "cell_type": "markdown",
      "source": [
        "визуализация распределения классов"
      ],
      "metadata": {
        "id": "UavbZOSq39rK"
      }
    },
    {
      "cell_type": "code",
      "source": [
        "data['class'].value_counts().plot.pie(autopct='%1.1f%%')"
      ],
      "metadata": {
        "colab": {
          "base_uri": "https://localhost:8080/",
          "height": 265
        },
        "id": "8Il3IG4p80Dw",
        "outputId": "e6fe1682-28da-45c6-aade-7dad82f5fa96"
      },
      "execution_count": null,
      "outputs": [
        {
          "output_type": "execute_result",
          "data": {
            "text/plain": [
              "<matplotlib.axes._subplots.AxesSubplot at 0x7fbb9cdc7460>"
            ]
          },
          "metadata": {},
          "execution_count": 5
        },
        {
          "output_type": "display_data",
          "data": {
            "text/plain": [
              "<Figure size 432x288 with 1 Axes>"
            ],
            "image/png": "[encoded data removed]"
          },
          "metadata": {}
        }
      ]
    },
    {
      "cell_type": "markdown",
      "source": [
        "разделение выборки на тестовую и тренировочную"
      ],
      "metadata": {
        "id": "bwq9ubzi4CRx"
      }
    },
    {
      "cell_type": "code",
      "source": [
        "x = data['text']\n",
        "y = data['class']\n",
        "x_train, x_test, y_train, y_test = train_test_split(x, y, test_size = 0.2)"
      ],
      "metadata": {
        "id": "Mh4B7F2yiNDF"
      },
      "execution_count": null,
      "outputs": []
    },
    {
      "cell_type": "code",
      "source": [
        "words = {}\n",
        "p_spam = 0.5\n",
        "p_ham = 0.5"
      ],
      "metadata": {
        "id": "nDMDYAMuAtah"
      },
      "execution_count": null,
      "outputs": []
    },
    {
      "cell_type": "code",
      "source": [
        "p_spam = y_train.value_counts(normalize=True)['spam']\n",
        "p_ham = 1 - p_spam\n",
        "p_word_in_spam = []\n",
        "p_word = []"
      ],
      "metadata": {
        "id": "QL9xqqWpA2op"
      },
      "execution_count": null,
      "outputs": []
    },
    {
      "cell_type": "code",
      "source": [
        "vectorizer = CountVectorizer(token_pattern=r'(?u)\\b\\w\\w+\\b') \n",
        "x = vectorizer.fit_transform(x_train).toarray()\n",
        "words = vectorizer.get_feature_names_out()\n",
        "count_word = len(x[0])\n",
        "count_text = len(x)"
      ],
      "metadata": {
        "id": "aQxIhuuCBHu9"
      },
      "execution_count": null,
      "outputs": []
    },
    {
      "cell_type": "code",
      "source": [
        "count_word"
      ],
      "metadata": {
        "colab": {
          "base_uri": "https://localhost:8080/"
        },
        "id": "1EqKZO0CBjQl",
        "outputId": "ca617eff-59ea-4e96-a5c9-1038c3f80d94"
      },
      "execution_count": null,
      "outputs": [
        {
          "output_type": "execute_result",
          "data": {
            "text/plain": [
              "7704"
            ]
          },
          "metadata": {},
          "execution_count": 10
        }
      ]
    },
    {
      "cell_type": "code",
      "source": [
        "count_text"
      ],
      "metadata": {
        "colab": {
          "base_uri": "https://localhost:8080/"
        },
        "id": "-9pEhByQBoBo",
        "outputId": "5bb5132b-6cd9-421f-d253-3a7eacad5ccb"
      },
      "execution_count": null,
      "outputs": [
        {
          "output_type": "execute_result",
          "data": {
            "text/plain": [
              "4457"
            ]
          },
          "metadata": {},
          "execution_count": 11
        }
      ]
    },
    {
      "cell_type": "code",
      "source": [
        "words"
      ],
      "metadata": {
        "colab": {
          "base_uri": "https://localhost:8080/"
        },
        "id": "RqLW-LHePk6h",
        "outputId": "1c5b849b-8f4e-401e-e9d8-e4cde5a98c6d"
      },
      "execution_count": null,
      "outputs": [
        {
          "output_type": "execute_result",
          "data": {
            "text/plain": [
              "array(['00', '000', '000pes', ..., 'ûïharry', 'ûò', 'ûówell'],\n",
              "      dtype=object)"
            ]
          },
          "metadata": {},
          "execution_count": 12
        }
      ]
    },
    {
      "cell_type": "code",
      "source": [
        "y_train = list(y_train)\n",
        "p_spam_word = []\n",
        "for w in range(count_word):\n",
        "    count, count2 = 0, 0\n",
        "    for i in range(len(x)):\n",
        "        if x[i][w] > 0:\n",
        "            count += 1\n",
        "            if y_train[i] == 'spam':\n",
        "                count2 += 1\n",
        "    p_spam_word.append(count2/count)"
      ],
      "metadata": {
        "id": "2iLpX8UHCAVu"
      },
      "execution_count": null,
      "outputs": []
    },
    {
      "cell_type": "markdown",
      "source": [
        "наивный байесовский классификатор"
      ],
      "metadata": {
        "id": "6oGlo9uR4HUi"
      }
    },
    {
      "cell_type": "code",
      "source": [
        "class BayesianСlassification:\n",
        "    def __init__(self):\n",
        "        self.words = {}\n",
        "        self.p_spam = 0.5\n",
        "        self.p_ham = 0.5\n",
        "    \n",
        "    def fit(self, texts, class_, token_pattern=r\"(?u)\\b\\w\\w+\\b\"):\n",
        "        #self.p_spam = class_.value_counts(normalize=True)['spam']\n",
        "        self.p_ham = 1 - self.p_spam\n",
        "        p_word_in_spam = []\n",
        "        p_word = []\n",
        "        vectorizer = CountVectorizer(token_pattern=token_pattern) \n",
        "        x = vectorizer.fit_transform(texts).toarray()\n",
        "        words = vectorizer.get_feature_names_out()\n",
        "        count_word = len(x[0])\n",
        "        count_text = len(x)\n",
        "        y = list(class_)\n",
        "        p_spam_word = []\n",
        "        for w in range(count_word):\n",
        "            count, count2 = 0, 0\n",
        "            for i in range(count_text):\n",
        "                if x[i][w] > 0:\n",
        "                    count += 1\n",
        "                    if y[i] == 'spam':\n",
        "                        count2 += 1\n",
        "            p_spam_word.append(count2/count)\n",
        "        self.words = {words[i]:p_spam_word[i] for i in range(count_word)}\n",
        "\n",
        "    def comp(self, X):\n",
        "        p = 1\n",
        "        for x in X:\n",
        "            p *= x\n",
        "        return p\n",
        "\n",
        "    def spam_word(self, word):\n",
        "        return self.words.get(word)\n",
        "\n",
        "    def spam_text(self, text):\n",
        "        v = CountVectorizer()\n",
        "        try:\n",
        "            v.fit_transform([text])\n",
        "            word = v.get_feature_names_out()\n",
        "            li = [self.spam_word(w) for w in word if self.spam_word(w) is not None]\n",
        "            return self.comp(li) / (self.comp(li)  + (self.p_ham / self.p_spam) ** (1 - len(li)) *  self.comp([1 - i for i in li]))\n",
        "        except:\n",
        "            return 0.5\n",
        "\n",
        "    def check(self, x, y):\n",
        "        tp_count, tn_count, fp_count, spam_count= 0, 0, 0, 0\n",
        "        x, y = list(x), list(y)\n",
        "        for i in range(len(y)):\n",
        "            if self.spam_text(x[i]) > 0.5 and y[i] == 'spam':\n",
        "                tp_count += 1\n",
        "                spam_count += 1\n",
        "            elif self.spam_text(x[i]) <= 0.5 and y[i] == 'ham':\n",
        "                tn_count += 1\n",
        "            elif self.spam_text(x[i]) <= 0.5 and y[i] == 'spam':\n",
        "                fp_count += 1\n",
        "                spam_count += 1\n",
        "\n",
        "        self.matrix = [[tp_count / spam_count, tn_count / (len(y) - spam_count)],\n",
        "                       [fp_count / spam_count, (len(y) - tp_count - tn_count - fp_count) / (len(y) - spam_count)]]\n",
        "        self.score = (tp_count + tn_count) / len(y)"
      ],
      "metadata": {
        "id": "O7yl4fHlemwl"
      },
      "execution_count": null,
      "outputs": []
    },
    {
      "cell_type": "code",
      "source": [
        "bc =  BayesianСlassification()\n",
        "bc.fit(x_train, y_train)"
      ],
      "metadata": {
        "id": "z9DRhBZtexfT"
      },
      "execution_count": null,
      "outputs": []
    },
    {
      "cell_type": "code",
      "source": [
        "bc.spam_text('app anytime to')"
      ],
      "metadata": {
        "colab": {
          "base_uri": "https://localhost:8080/"
        },
        "id": "ytwtkhxGfkNh",
        "outputId": "e5b0333e-3012-43d5-c95d-8bcd5e35d776"
      },
      "execution_count": null,
      "outputs": [
        {
          "output_type": "execute_result",
          "data": {
            "text/plain": [
              "0.5982459803716851"
            ]
          },
          "metadata": {},
          "execution_count": 38
        }
      ]
    },
    {
      "cell_type": "code",
      "source": [
        "bc.check(x_test, y_test)"
      ],
      "metadata": {
        "id": "DO1dcU0Koll-"
      },
      "execution_count": null,
      "outputs": []
    },
    {
      "cell_type": "code",
      "source": [
        "bc.matrix"
      ],
      "metadata": {
        "colab": {
          "base_uri": "https://localhost:8080/"
        },
        "id": "R_bm4-6-pJlf",
        "outputId": "fdce371d-a8e1-4444-d78d-2e43befe7a85"
      },
      "execution_count": null,
      "outputs": [
        {
          "output_type": "execute_result",
          "data": {
            "text/plain": [
              "[[0.6713286713286714, 0.9989711934156379],\n",
              " [0.32867132867132864, 0.00102880658436214]]"
            ]
          },
          "metadata": {},
          "execution_count": 40
        }
      ]
    },
    {
      "cell_type": "code",
      "source": [
        "bc.score"
      ],
      "metadata": {
        "id": "fYWBvlKApTiH",
        "outputId": "3dca0f41-92f6-4dd5-e4ce-94ffd32d0af0",
        "colab": {
          "base_uri": "https://localhost:8080/"
        }
      },
      "execution_count": null,
      "outputs": [
        {
          "output_type": "execute_result",
          "data": {
            "text/plain": [
              "0.95695067264574"
            ]
          },
          "metadata": {},
          "execution_count": 41
        }
      ]
    }
  ]
}